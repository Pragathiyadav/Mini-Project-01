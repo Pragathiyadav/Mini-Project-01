{
 "cells": [
  {
   "cell_type": "markdown",
   "id": "cf0f363c",
   "metadata": {},
   "source": [
    "# Phase-2\n",
    "Statistical Analysis\n",
    "Data Exploration and analysis for the stated problem & sales and demand farecasting dataset"
   ]
  },
  {
   "cell_type": "markdown",
   "id": "9120444c",
   "metadata": {},
   "source": [
    "1.    Frame 10 questions on Probability & Statistics"
   ]
  },
  {
   "cell_type": "code",
   "execution_count": 55,
   "id": "d5f06510",
   "metadata": {},
   "outputs": [],
   "source": [
    "import numpy as np\n",
    "import pandas as pd \n",
    "import matplotlib.pyplot as plt\n",
    "import seaborn as sns"
   ]
  },
  {
   "cell_type": "code",
   "execution_count": 56,
   "id": "bd4d1f58",
   "metadata": {},
   "outputs": [
    {
     "data": {
      "text/html": [
       "<div>\n",
       "<style scoped>\n",
       "    .dataframe tbody tr th:only-of-type {\n",
       "        vertical-align: middle;\n",
       "    }\n",
       "\n",
       "    .dataframe tbody tr th {\n",
       "        vertical-align: top;\n",
       "    }\n",
       "\n",
       "    .dataframe thead th {\n",
       "        text-align: right;\n",
       "    }\n",
       "</style>\n",
       "<table border=\"1\" class=\"dataframe\">\n",
       "  <thead>\n",
       "    <tr style=\"text-align: right;\">\n",
       "      <th></th>\n",
       "      <th>Store</th>\n",
       "      <th>Date</th>\n",
       "      <th>Weekly_Sales</th>\n",
       "      <th>Holiday_Flag</th>\n",
       "      <th>Temperature</th>\n",
       "      <th>Fuel_Price</th>\n",
       "      <th>CPI</th>\n",
       "      <th>Unemployment</th>\n",
       "    </tr>\n",
       "  </thead>\n",
       "  <tbody>\n",
       "    <tr>\n",
       "      <th>0</th>\n",
       "      <td>1</td>\n",
       "      <td>05-02-2010</td>\n",
       "      <td>1643690.90</td>\n",
       "      <td>0</td>\n",
       "      <td>42.31</td>\n",
       "      <td>2.572</td>\n",
       "      <td>211.096358</td>\n",
       "      <td>8.106</td>\n",
       "    </tr>\n",
       "    <tr>\n",
       "      <th>1</th>\n",
       "      <td>1</td>\n",
       "      <td>12-02-2010</td>\n",
       "      <td>1641957.44</td>\n",
       "      <td>1</td>\n",
       "      <td>38.51</td>\n",
       "      <td>2.548</td>\n",
       "      <td>211.242170</td>\n",
       "      <td>8.106</td>\n",
       "    </tr>\n",
       "    <tr>\n",
       "      <th>2</th>\n",
       "      <td>1</td>\n",
       "      <td>19-02-2010</td>\n",
       "      <td>1611968.17</td>\n",
       "      <td>0</td>\n",
       "      <td>39.93</td>\n",
       "      <td>2.514</td>\n",
       "      <td>211.289143</td>\n",
       "      <td>8.106</td>\n",
       "    </tr>\n",
       "    <tr>\n",
       "      <th>3</th>\n",
       "      <td>1</td>\n",
       "      <td>26-02-2010</td>\n",
       "      <td>1409727.59</td>\n",
       "      <td>0</td>\n",
       "      <td>46.63</td>\n",
       "      <td>2.561</td>\n",
       "      <td>211.319643</td>\n",
       "      <td>8.106</td>\n",
       "    </tr>\n",
       "    <tr>\n",
       "      <th>4</th>\n",
       "      <td>1</td>\n",
       "      <td>05-03-2010</td>\n",
       "      <td>1554806.68</td>\n",
       "      <td>0</td>\n",
       "      <td>46.50</td>\n",
       "      <td>2.625</td>\n",
       "      <td>211.350143</td>\n",
       "      <td>8.106</td>\n",
       "    </tr>\n",
       "    <tr>\n",
       "      <th>...</th>\n",
       "      <td>...</td>\n",
       "      <td>...</td>\n",
       "      <td>...</td>\n",
       "      <td>...</td>\n",
       "      <td>...</td>\n",
       "      <td>...</td>\n",
       "      <td>...</td>\n",
       "      <td>...</td>\n",
       "    </tr>\n",
       "    <tr>\n",
       "      <th>6430</th>\n",
       "      <td>45</td>\n",
       "      <td>28-09-2012</td>\n",
       "      <td>713173.95</td>\n",
       "      <td>0</td>\n",
       "      <td>64.88</td>\n",
       "      <td>3.997</td>\n",
       "      <td>192.013558</td>\n",
       "      <td>8.684</td>\n",
       "    </tr>\n",
       "    <tr>\n",
       "      <th>6431</th>\n",
       "      <td>45</td>\n",
       "      <td>05-10-2012</td>\n",
       "      <td>733455.07</td>\n",
       "      <td>0</td>\n",
       "      <td>64.89</td>\n",
       "      <td>3.985</td>\n",
       "      <td>192.170412</td>\n",
       "      <td>8.667</td>\n",
       "    </tr>\n",
       "    <tr>\n",
       "      <th>6432</th>\n",
       "      <td>45</td>\n",
       "      <td>12-10-2012</td>\n",
       "      <td>734464.36</td>\n",
       "      <td>0</td>\n",
       "      <td>54.47</td>\n",
       "      <td>4.000</td>\n",
       "      <td>192.327265</td>\n",
       "      <td>8.667</td>\n",
       "    </tr>\n",
       "    <tr>\n",
       "      <th>6433</th>\n",
       "      <td>45</td>\n",
       "      <td>19-10-2012</td>\n",
       "      <td>718125.53</td>\n",
       "      <td>0</td>\n",
       "      <td>56.47</td>\n",
       "      <td>3.969</td>\n",
       "      <td>192.330854</td>\n",
       "      <td>8.667</td>\n",
       "    </tr>\n",
       "    <tr>\n",
       "      <th>6434</th>\n",
       "      <td>45</td>\n",
       "      <td>26-10-2012</td>\n",
       "      <td>760281.43</td>\n",
       "      <td>0</td>\n",
       "      <td>58.85</td>\n",
       "      <td>3.882</td>\n",
       "      <td>192.308899</td>\n",
       "      <td>8.667</td>\n",
       "    </tr>\n",
       "  </tbody>\n",
       "</table>\n",
       "<p>6435 rows × 8 columns</p>\n",
       "</div>"
      ],
      "text/plain": [
       "      Store        Date  Weekly_Sales  Holiday_Flag  Temperature  Fuel_Price  \\\n",
       "0         1  05-02-2010    1643690.90             0        42.31       2.572   \n",
       "1         1  12-02-2010    1641957.44             1        38.51       2.548   \n",
       "2         1  19-02-2010    1611968.17             0        39.93       2.514   \n",
       "3         1  26-02-2010    1409727.59             0        46.63       2.561   \n",
       "4         1  05-03-2010    1554806.68             0        46.50       2.625   \n",
       "...     ...         ...           ...           ...          ...         ...   \n",
       "6430     45  28-09-2012     713173.95             0        64.88       3.997   \n",
       "6431     45  05-10-2012     733455.07             0        64.89       3.985   \n",
       "6432     45  12-10-2012     734464.36             0        54.47       4.000   \n",
       "6433     45  19-10-2012     718125.53             0        56.47       3.969   \n",
       "6434     45  26-10-2012     760281.43             0        58.85       3.882   \n",
       "\n",
       "             CPI  Unemployment  \n",
       "0     211.096358         8.106  \n",
       "1     211.242170         8.106  \n",
       "2     211.289143         8.106  \n",
       "3     211.319643         8.106  \n",
       "4     211.350143         8.106  \n",
       "...          ...           ...  \n",
       "6430  192.013558         8.684  \n",
       "6431  192.170412         8.667  \n",
       "6432  192.327265         8.667  \n",
       "6433  192.330854         8.667  \n",
       "6434  192.308899         8.667  \n",
       "\n",
       "[6435 rows x 8 columns]"
      ]
     },
     "execution_count": 56,
     "metadata": {},
     "output_type": "execute_result"
    }
   ],
   "source": [
    "import pandas as pd\n",
    "data = pd.read_csv(\"C:/Users/DELL/Downloads/archive (9)/Walmart Data Analysis and Forcasting.csv\")\n",
    "data"
   ]
  },
  {
   "cell_type": "code",
   "execution_count": 57,
   "id": "7a1d4a0f",
   "metadata": {},
   "outputs": [
    {
     "name": "stdout",
     "output_type": "stream",
     "text": [
      "   Store        Date  Weekly_Sales  Holiday_Flag  Temperature  Fuel_Price  \\\n",
      "0      1  05-02-2010    1643690.90             0        42.31       2.572   \n",
      "1      1  12-02-2010    1641957.44             1        38.51       2.548   \n",
      "2      1  19-02-2010    1611968.17             0        39.93       2.514   \n",
      "3      1  26-02-2010    1409727.59             0        46.63       2.561   \n",
      "4      1  05-03-2010    1554806.68             0        46.50       2.625   \n",
      "\n",
      "          CPI  Unemployment  \n",
      "0  211.096358         8.106  \n",
      "1  211.242170         8.106  \n",
      "2  211.289143         8.106  \n",
      "3  211.319643         8.106  \n",
      "4  211.350143         8.106  \n"
     ]
    }
   ],
   "source": [
    "# Display the first few rows\n",
    "print(data.head())"
   ]
  },
  {
   "cell_type": "code",
   "execution_count": 58,
   "id": "ac559357",
   "metadata": {},
   "outputs": [
    {
     "name": "stdout",
     "output_type": "stream",
     "text": [
      "<class 'pandas.core.frame.DataFrame'>\n",
      "RangeIndex: 6435 entries, 0 to 6434\n",
      "Data columns (total 8 columns):\n",
      " #   Column        Non-Null Count  Dtype  \n",
      "---  ------        --------------  -----  \n",
      " 0   Store         6435 non-null   int64  \n",
      " 1   Date          6435 non-null   object \n",
      " 2   Weekly_Sales  6435 non-null   float64\n",
      " 3   Holiday_Flag  6435 non-null   int64  \n",
      " 4   Temperature   6435 non-null   float64\n",
      " 5   Fuel_Price    6435 non-null   float64\n",
      " 6   CPI           6435 non-null   float64\n",
      " 7   Unemployment  6435 non-null   float64\n",
      "dtypes: float64(5), int64(2), object(1)\n",
      "memory usage: 402.3+ KB\n"
     ]
    }
   ],
   "source": [
    "data. info()"
   ]
  },
  {
   "cell_type": "markdown",
   "id": "361d82e4",
   "metadata": {},
   "source": [
    "1. What are the summary statistics of key variables?"
   ]
  },
  {
   "cell_type": "code",
   "execution_count": 59,
   "id": "84340a11",
   "metadata": {},
   "outputs": [
    {
     "name": "stdout",
     "output_type": "stream",
     "text": [
      "             Store  Weekly_Sales  Holiday_Flag  Temperature   Fuel_Price  \\\n",
      "count  6435.000000  6.435000e+03   6435.000000  6435.000000  6435.000000   \n",
      "mean     23.000000  1.046965e+06      0.069930    60.663782     3.358607   \n",
      "std      12.988182  5.643666e+05      0.255049    18.444933     0.459020   \n",
      "min       1.000000  2.099862e+05      0.000000    -2.060000     2.472000   \n",
      "25%      12.000000  5.533501e+05      0.000000    47.460000     2.933000   \n",
      "50%      23.000000  9.607460e+05      0.000000    62.670000     3.445000   \n",
      "75%      34.000000  1.420159e+06      0.000000    74.940000     3.735000   \n",
      "max      45.000000  3.818686e+06      1.000000   100.140000     4.468000   \n",
      "\n",
      "               CPI  Unemployment  \n",
      "count  6435.000000   6435.000000  \n",
      "mean    171.578394      7.999151  \n",
      "std      39.356712      1.875885  \n",
      "min     126.064000      3.879000  \n",
      "25%     131.735000      6.891000  \n",
      "50%     182.616521      7.874000  \n",
      "75%     212.743293      8.622000  \n",
      "max     227.232807     14.313000  \n"
     ]
    }
   ],
   "source": [
    "# Summary statistics\n",
    "print(data.describe())\n"
   ]
  },
  {
   "cell_type": "markdown",
   "id": "32ffdeef",
   "metadata": {},
   "source": [
    "2. Are there any missing values in the dataset?"
   ]
  },
  {
   "cell_type": "code",
   "execution_count": 60,
   "id": "5f99d354",
   "metadata": {},
   "outputs": [
    {
     "name": "stdout",
     "output_type": "stream",
     "text": [
      "Store           0\n",
      "Date            0\n",
      "Weekly_Sales    0\n",
      "Holiday_Flag    0\n",
      "Temperature     0\n",
      "Fuel_Price      0\n",
      "CPI             0\n",
      "Unemployment    0\n",
      "dtype: int64\n"
     ]
    }
   ],
   "source": [
    "# Check for missing values\n",
    "print(data.isnull().sum())\n"
   ]
  },
  {
   "cell_type": "markdown",
   "id": "0abd0c5a",
   "metadata": {},
   "source": [
    "3. What is the probability distribution of weekly sales?\n",
    "\n",
    "Calculate and visualize the probability distribution of weekly sales data."
   ]
  },
  {
   "cell_type": "code",
   "execution_count": 61,
   "id": "43034e27",
   "metadata": {},
   "outputs": [
    {
     "data": {
      "image/png": "[encoded data removed]",
      "text/plain": [
       "<Figure size 640x480 with 1 Axes>"
      ]
     },
     "metadata": {},
     "output_type": "display_data"
    }
   ],
   "source": [
    "# Histogram of weekly sales data\n",
    "plt.hist(data['Weekly_Sales'], bins=20, density=True)\n",
    "plt.xlabel('Weekly Sales')\n",
    "plt.ylabel('Probability Density')\n",
    "plt.title('Probability Distribution of Weekly Sales')\n",
    "plt.show()\n"
   ]
  },
  {
   "cell_type": "markdown",
   "id": "6197533e",
   "metadata": {},
   "source": [
    "4. Is the data normally distributed?\n",
    "\n",
    "Perform a normality test to check if the weekly sales data follows a normal distribution."
   ]
  },
  {
   "cell_type": "code",
   "execution_count": 62,
   "id": "742d4008",
   "metadata": {},
   "outputs": [
    {
     "name": "stdout",
     "output_type": "stream",
     "text": [
      "Weekly sales data does not follow a normal distribution\n"
     ]
    }
   ],
   "source": [
    "from scipy.stats import shapiro\n",
    "\n",
    "# Perform Shapiro-Wilk normality test\n",
    "stat, p = shapiro(data['Weekly_Sales'])\n",
    "if p > 0.05:\n",
    "    print(\"Weekly sales data follows a normal distribution\")\n",
    "else:\n",
    "    print(\"Weekly sales data does not follow a normal distribution\")\n"
   ]
  },
  {
   "cell_type": "markdown",
   "id": "fb4a385f",
   "metadata": {},
   "source": [
    "5. What are the mean and standard deviation of weekly sales?\n",
    "\n",
    ". Calculate the mean and standard deviation to understand the central tendency and variability of the data."
   ]
  },
  {
   "cell_type": "code",
   "execution_count": 63,
   "id": "d9a303a4",
   "metadata": {},
   "outputs": [
    {
     "name": "stdout",
     "output_type": "stream",
     "text": [
      "Mean Weekly Sales: 1046964.88\n",
      "Standard Deviation: 564366.62\n"
     ]
    }
   ],
   "source": [
    "mean_sales = data['Weekly_Sales'].mean()\n",
    "std_deviation = data['Weekly_Sales'].std()\n",
    "\n",
    "print(\"Mean Weekly Sales: {:.2f}\".format(mean_sales))\n",
    "print(\"Standard Deviation: {:.2f}\".format(std_deviation))\n"
   ]
  },
  {
   "cell_type": "markdown",
   "id": "f1b86026",
   "metadata": {},
   "source": [
    "6. Is there a correlation between weekly sales and external factors (e.g., Temperature, CPI)?\n",
    "\n",
    "Compute the correlation coefficient to measure the strength and direction of the relationship."
   ]
  },
  {
   "cell_type": "code",
   "execution_count": 64,
   "id": "f13f6ef9",
   "metadata": {},
   "outputs": [
    {
     "name": "stdout",
     "output_type": "stream",
     "text": [
      "Correlation between Temperature and Weekly Sales: -0.06\n",
      "Correlation between CPI and Weekly Sales: -0.07\n"
     ]
    }
   ],
   "source": [
    "correlation_temp_sales = data['Temperature'].corr(data['Weekly_Sales'])\n",
    "correlation_cpi_sales = data['CPI'].corr(data['Weekly_Sales'])\n",
    "\n",
    "print(\"Correlation between Temperature and Weekly Sales: {:.2f}\".format(correlation_temp_sales))\n",
    "print(\"Correlation between CPI and Weekly Sales: {:.2f}\".format(correlation_cpi_sales))\n"
   ]
  },
  {
   "cell_type": "markdown",
   "id": "96e6bc8c",
   "metadata": {},
   "source": [
    "7. How confident are we in our forecasts for weekly sales?\n",
    "\n",
    "Calculate a confidence interval for your sales forecasts."
   ]
  },
  {
   "cell_type": "code",
   "execution_count": 65,
   "id": "9298a598",
   "metadata": {},
   "outputs": [
    {
     "name": "stdout",
     "output_type": "stream",
     "text": [
      "95% Confidence Interval for Weekly Sales: [1033175.80, 1060753.95]\n"
     ]
    }
   ],
   "source": [
    "from scipy.stats import norm\n",
    "\n",
    "confidence_level = 0.95\n",
    "z_score = norm.ppf(1 - (1 - confidence_level) / 2)\n",
    "margin_of_error = z_score * (std_deviation / (len(data['Weekly_Sales'])**0.5))\n",
    "\n",
    "lower_bound = mean_sales - margin_of_error\n",
    "upper_bound = mean_sales + margin_of_error\n",
    "\n",
    "print(\"95% Confidence Interval for Weekly Sales: [{:.2f}, {:.2f}]\".format(lower_bound, upper_bound))\n"
   ]
  },
  {
   "cell_type": "markdown",
   "id": "ceb64061",
   "metadata": {},
   "source": [
    "8. What is the historical sales growth rate?\n",
    "\n",
    "Calculate the growth rate of weekly sales over time."
   ]
  },
  {
   "cell_type": "code",
   "execution_count": 66,
   "id": "15511f44",
   "metadata": {},
   "outputs": [
    {
     "name": "stdout",
     "output_type": "stream",
     "text": [
      "Mean Weekly Sales Growth Rate: 0.97%\n"
     ]
    }
   ],
   "source": [
    "data['Sales_Growth'] = data['Weekly_Sales'].pct_change() * 100\n",
    "mean_growth_rate = data['Sales_Growth'].mean()\n",
    "\n",
    "print(\"Mean Weekly Sales Growth Rate: {:.2f}%\".format(mean_growth_rate))\n"
   ]
  },
  {
   "cell_type": "markdown",
   "id": "a6ba7478",
   "metadata": {},
   "source": [
    "9. Is there a significant difference in sales during holidays (Holiday_Flag)?\n",
    "\n",
    "Use a t-test or analysis of variance (ANOVA) to determine if there is a statistically significant difference in sales between holidays and non-holidays."
   ]
  },
  {
   "cell_type": "code",
   "execution_count": 67,
   "id": "35ad71fe",
   "metadata": {},
   "outputs": [
    {
     "name": "stdout",
     "output_type": "stream",
     "text": [
      "There is a significant difference in sales during holidays.\n"
     ]
    }
   ],
   "source": [
    "from scipy.stats import ttest_ind\n",
    "\n",
    "holiday_sales = data[data['Holiday_Flag'] == 1]['Weekly_Sales']\n",
    "non_holiday_sales = data[data['Holiday_Flag'] == 0]['Weekly_Sales']\n",
    "\n",
    "t_statistic, p_value = ttest_ind(holiday_sales, non_holiday_sales)\n",
    "\n",
    "if p_value < 0.05:\n",
    "    print(\"There is a significant difference in sales during holidays.\")\n",
    "else:\n",
    "    print(\"No significant difference in sales between holidays and non-holidays.\")\n"
   ]
  },
  {
   "cell_type": "markdown",
   "id": "ce2d0660",
   "metadata": {},
   "source": [
    "10. What is the probability of weekly sales exceeding a certain threshold?\n",
    "\n",
    "Calculate the probability using the cumulative distribution function (CDF)."
   ]
  },
  {
   "cell_type": "code",
   "execution_count": 68,
   "id": "0fbcc43e",
   "metadata": {},
   "outputs": [
    {
     "name": "stdout",
     "output_type": "stream",
     "text": [
      "Probability of Weekly Sales Exceeding 10000: 0.97\n"
     ]
    }
   ],
   "source": [
    "from scipy.stats import norm\n",
    "\n",
    "threshold = 10000 \n",
    "# Define your threshold\n",
    "probability_exceed_threshold = 1 - norm.cdf(threshold, loc=mean_sales, scale=std_deviation)\n",
    "\n",
    "print(\"Probability of Weekly Sales Exceeding {}: {:.2f}\".format(threshold, probability_exceed_threshold))\n"
   ]
  },
  {
   "cell_type": "markdown",
   "id": "29b8592b",
   "metadata": {},
   "source": [
    "# 2. Dispersion for the parameters"
   ]
  },
  {
   "cell_type": "markdown",
   "id": "c38d7205",
   "metadata": {},
   "source": [
    "1. Range:\n",
    "\n",
    "The range is the difference between the maximum and minimum values in a dataset, providing a simple measure of dispersion."
   ]
  },
  {
   "cell_type": "code",
   "execution_count": 69,
   "id": "7e419233",
   "metadata": {},
   "outputs": [
    {
     "name": "stdout",
     "output_type": "stream",
     "text": [
      "Range of Weekly Sales: 3608700.20\n"
     ]
    }
   ],
   "source": [
    "# Calculate the range for Weekly Sales\n",
    "range_sales = data['Weekly_Sales'].max() - data['Weekly_Sales'].min()\n",
    "print(\"Range of Weekly Sales: {:.2f}\".format(range_sales))\n"
   ]
  },
  {
   "cell_type": "markdown",
   "id": "79deb30b",
   "metadata": {},
   "source": [
    "2. Variance:\n",
    "\n",
    "Variance measures how data points differ from the mean. It is the average of the squared differences from the mean."
   ]
  },
  {
   "cell_type": "code",
   "execution_count": 70,
   "id": "48c776b8",
   "metadata": {},
   "outputs": [
    {
     "name": "stdout",
     "output_type": "stream",
     "text": [
      "Variance of Weekly Sales: 318509684088.30\n"
     ]
    }
   ],
   "source": [
    "# Calculate the variance for Weekly Sales\n",
    "variance_sales = data['Weekly_Sales'].var()\n",
    "print(\"Variance of Weekly Sales: {:.2f}\".format(variance_sales))\n"
   ]
  },
  {
   "cell_type": "markdown",
   "id": "e6f2359c",
   "metadata": {},
   "source": [
    "3. Standard Deviation:\n",
    "\n",
    "The standard deviation is the square root of the variance. It provides a measure of the dispersion in the same units as the data."
   ]
  },
  {
   "cell_type": "code",
   "execution_count": 71,
   "id": "85559bc5",
   "metadata": {},
   "outputs": [
    {
     "name": "stdout",
     "output_type": "stream",
     "text": [
      "Standard Deviation of Weekly Sales: 564366.62\n"
     ]
    }
   ],
   "source": [
    "# Calculate the standard deviation for Weekly Sales\n",
    "std_deviation_sales = data['Weekly_Sales'].std()\n",
    "print(\"Standard Deviation of Weekly Sales: {:.2f}\".format(std_deviation_sales))\n"
   ]
  },
  {
   "cell_type": "markdown",
   "id": "b12cc435",
   "metadata": {},
   "source": [
    "# 3. Data distribution"
   ]
  },
  {
   "cell_type": "markdown",
   "id": "9801e685",
   "metadata": {},
   "source": [
    "Data distribution refers to the way data values are spread or distributed in a dataset. It describes the frequency and pattern of observations or measurements within a set of data. Understanding the distribution of data is fundamental in statistics and data analysis because it provides insights into the central tendencies, variability, and overall characteristics of the data."
   ]
  },
  {
   "cell_type": "markdown",
   "id": "403234ca",
   "metadata": {},
   "source": [
    "Key components\n",
    "1. Central Tendency: \n",
    "2. Dispersion: \n",
    "3. Shape: \n",
    "4. Tails\n",
    "5. Outliers:\n",
    "6. Modality: "
   ]
  },
  {
   "cell_type": "markdown",
   "id": "1f4920bd",
   "metadata": {},
   "source": [
    "# 4. Visualize above with Distribution, Histogram & Scatter Plots"
   ]
  },
  {
   "cell_type": "code",
   "execution_count": 72,
   "id": "22aa2279",
   "metadata": {},
   "outputs": [
    {
     "data": {
      "image/png": "[encoded data removed]",
      "text/plain": [
       "<Figure size 640x480 with 1 Axes>"
      ]
     },
     "metadata": {},
     "output_type": "display_data"
    },
    {
     "data": {
      "image/png": "[encoded data removed]",
      "text/plain": [
       "<Figure size 640x480 with 1 Axes>"
      ]
     },
     "metadata": {},
     "output_type": "display_data"
    }
   ],
   "source": [
    "import matplotlib.pyplot as plt\n",
    "import seaborn as sns\n",
    "\n",
    "# Sample data\n",
    "data = [25, 30, 35, 35, 40, 40, 40, 45, 45, 50, 50, 50, 50, 55, 60]\n",
    "\n",
    "# Distribution Plot\n",
    "sns.set_style('whitegrid')\n",
    "sns.kdeplot(data, shade=True, color='blue')\n",
    "plt.xlabel('Value')\n",
    "plt.ylabel('Density')\n",
    "plt.title('Distribution Plot')\n",
    "plt.show()\n",
    "\n",
    "# Histogram\n",
    "plt.hist(data, bins=5, edgecolor='k', color='lightblue')\n",
    "plt.xlabel('Value')\n",
    "plt.ylabel('Frequency')\n",
    "plt.title('Histogram')\n",
    "plt.show()\n"
   ]
  },
  {
   "cell_type": "code",
   "execution_count": 73,
   "id": "584bed8c",
   "metadata": {},
   "outputs": [],
   "source": [
    "import warnings \n",
    "warnings.filterwarnings('ignore')"
   ]
  },
  {
   "cell_type": "code",
   "execution_count": 75,
   "id": "4462dc90",
   "metadata": {},
   "outputs": [
    {
     "data": {
      "image/png": "[encoded data removed]",
      "text/plain": [
       "<Figure size 640x480 with 1 Axes>"
      ]
     },
     "metadata": {},
     "output_type": "display_data"
    }
   ],
   "source": [
    "import matplotlib.pyplot as plt\n",
    "\n",
    "# Sample data\n",
    "x = [10, 20, 30, 40, 50, 60, 70, 80, 90]\n",
    "y = [5, 10, 15, 20, 25, 30, 35, 40, 45]\n",
    "\n",
    "# Scatter Plot\n",
    "plt.scatter(x, y, color='red')\n",
    "plt.xlabel('X')\n",
    "plt.ylabel('Y')\n",
    "plt.title('Scatter Plot')\n",
    "plt.show()\n"
   ]
  },
  {
   "cell_type": "markdown",
   "id": "c4c912da",
   "metadata": {},
   "source": [
    "# 5.Test statistic"
   ]
  },
  {
   "cell_type": "code",
   "execution_count": 76,
   "id": "0fe3da52",
   "metadata": {},
   "outputs": [
    {
     "name": "stdout",
     "output_type": "stream",
     "text": [
      "T-Statistic: -6.0\n",
      "P-Value: 0.0003233932218851488\n",
      "Reject the null hypothesis\n"
     ]
    }
   ],
   "source": [
    "import scipy.stats as stats\n",
    "\n",
    "# Sample data for two groups (e.g., sample1 and sample2)\n",
    "sample1 = [25, 30, 35, 40, 45]\n",
    "sample2 = [55, 60, 65, 70, 75]\n",
    "\n",
    "# Perform an independent samples t-test\n",
    "t_statistic, p_value = stats.ttest_ind(sample1, sample2)\n",
    "\n",
    "# Display the t-statistic and p-value\n",
    "print(\"T-Statistic:\", t_statistic)\n",
    "print(\"P-Value:\", p_value)\n",
    "\n",
    "# Determine statistical significance\n",
    "alpha = 0.05  # Significance level\n",
    "if p_value < alpha:\n",
    "    print(\"Reject the null hypothesis\")\n",
    "else:\n",
    "    print(\"Fail to reject the null hypothesis\")\n"
   ]
  },
  {
   "cell_type": "markdown",
   "id": "05ac421b",
   "metadata": {},
   "source": [
    "# 6.Test type (T-test, Z-test, F-test, ANNOVA, Chi-Square, PCA)"
   ]
  },
  {
   "cell_type": "markdown",
   "id": "bfd49983",
   "metadata": {},
   "source": [
    "1. T-Test (Independent Samples):\n",
    "\n",
    "Used to compare means of two independent groups to determine if they are significantly different."
   ]
  },
  {
   "cell_type": "code",
   "execution_count": 77,
   "id": "ef473a57",
   "metadata": {},
   "outputs": [
    {
     "name": "stdout",
     "output_type": "stream",
     "text": [
      "T-Statistic: -6.0\n",
      "P-Value: 0.0003233932218851488\n",
      "Reject the null hypothesis\n"
     ]
    }
   ],
   "source": [
    "import scipy.stats as stats\n",
    "\n",
    "# Sample data for two groups (e.g., sample1 and sample2)\n",
    "sample1 = [25, 30, 35, 40, 45]\n",
    "sample2 = [55, 60, 65, 70, 75]\n",
    "\n",
    "# Perform an independent samples t-test\n",
    "t_statistic, p_value = stats.ttest_ind(sample1, sample2)\n",
    "\n",
    "# Display the t-statistic and p-value\n",
    "print(\"T-Statistic:\", t_statistic)\n",
    "print(\"P-Value:\", p_value)\n",
    "\n",
    "# Determine statistical significance\n",
    "alpha = 0.05  # Significance level\n",
    "if p_value < alpha:\n",
    "    print(\"Reject the null hypothesis\")\n",
    "else:\n",
    "    print(\"Fail to reject the null hypothesis\")\n"
   ]
  },
  {
   "cell_type": "markdown",
   "id": "f877b1ac",
   "metadata": {},
   "source": [
    "2. Z-Test:\n",
    "\n",
    "Used to test hypotheses about a population mean when the sample size is large."
   ]
  },
  {
   "cell_type": "code",
   "execution_count": 78,
   "id": "b564fde3",
   "metadata": {},
   "outputs": [
    {
     "name": "stdout",
     "output_type": "stream",
     "text": [
      "Z-Score: 0.0\n",
      "P-Value: 1.0\n",
      "Fail to reject the null hypothesis\n"
     ]
    }
   ],
   "source": [
    "import statsmodels.api as sm\n",
    "import numpy as np\n",
    "\n",
    "# Sample data and population parameters\n",
    "sample_data = np.array([110, 115, 120, 125, 130])\n",
    "population_mean = 120\n",
    "population_stddev = 10\n",
    "\n",
    "# Perform a Z-test\n",
    "z_score = (sample_data.mean() - population_mean) / (population_stddev / np.sqrt(len(sample_data)))\n",
    "p_value = 2 * (1 - stats.norm.cdf(abs(z_score)))\n",
    "\n",
    "# Display the Z-score and p-value\n",
    "print(\"Z-Score:\", z_score)\n",
    "print(\"P-Value:\", p_value)\n",
    "\n",
    "# Determine statistical significance\n",
    "alpha = 0.05  # Significance level\n",
    "if p_value < alpha:\n",
    "    print(\"Reject the null hypothesis\")\n",
    "else:\n",
    "    print(\"Fail to reject the null hypothesis\")\n"
   ]
  },
  {
   "cell_type": "markdown",
   "id": "367e5ab0",
   "metadata": {},
   "source": [
    "3. F-Test (One-Way ANOVA):\n",
    "\n",
    "Used to compare means of more than two groups."
   ]
  },
  {
   "cell_type": "code",
   "execution_count": 80,
   "id": "c6426f28",
   "metadata": {},
   "outputs": [
    {
     "name": "stdout",
     "output_type": "stream",
     "text": [
      "F-Statistic: 60.66666666666674\n",
      "P-Value: 5.314409999999965e-07\n",
      "Reject the null hypothesis\n"
     ]
    }
   ],
   "source": [
    "import scipy.stats as stats\n",
    "\n",
    "# Sample data for multiple groups\n",
    "group1 = [25, 30, 35, 40, 45]\n",
    "group2 = [55, 60, 65, 70, 75]\n",
    "group3 = [80, 85, 90, 95, 100]\n",
    "\n",
    "# Perform a one-way ANOVA\n",
    "f_statistic, p_value = stats.f_oneway(group1, group2, group3)\n",
    "\n",
    "# Display the F-statistic and p-value\n",
    "print(\"F-Statistic:\", f_statistic)\n",
    "print(\"P-Value:\", p_value)\n",
    "\n",
    "# Determine statistical significance\n",
    "alpha = 0.05  # Significance level\n",
    "if p_value < alpha:\n",
    "    print(\"Reject the null hypothesis\")\n",
    "else:\n",
    "    print(\"Fail to reject the null hypothesis\")\n"
   ]
  },
  {
   "cell_type": "markdown",
   "id": "fccb03d5",
   "metadata": {},
   "source": [
    "4. Chi-Square Test:\n",
    "\n",
    "Used to test the independence of two categorical variables."
   ]
  },
  {
   "cell_type": "code",
   "execution_count": 81,
   "id": "c64da358",
   "metadata": {},
   "outputs": [
    {
     "name": "stdout",
     "output_type": "stream",
     "text": [
      "Chi-Squared Statistic: 6.949930555555551\n",
      "P-Value: 0.00838224869725173\n",
      "Reject the null hypothesis\n"
     ]
    }
   ],
   "source": [
    "import scipy.stats as stats\n",
    "\n",
    "# Create a contingency table (observed frequencies)\n",
    "observed = np.array([[30, 10], [20, 25]])\n",
    "\n",
    "# Perform a chi-squared test\n",
    "chi2, p_value, _, _ = stats.chi2_contingency(observed)\n",
    "\n",
    "# Display the chi-squared statistic and p-value\n",
    "print(\"Chi-Squared Statistic:\", chi2)\n",
    "print(\"P-Value:\", p_value)\n",
    "\n",
    "# Determine statistical significance\n",
    "alpha = 0.05  # Significance level\n",
    "if p_value < alpha:\n",
    "    print(\"Reject the null hypothesis\")\n",
    "else:\n",
    "    print(\"Fail to reject the null hypothesis\")\n"
   ]
  },
  {
   "cell_type": "markdown",
   "id": "bede161a",
   "metadata": {},
   "source": [
    "5. Principal Component Analysis (PCA):\n",
    "\n",
    "Used for dimensionality reduction and data visualization."
   ]
  },
  {
   "cell_type": "code",
   "execution_count": 82,
   "id": "31762278",
   "metadata": {},
   "outputs": [
    {
     "name": "stdout",
     "output_type": "stream",
     "text": [
      "Principal Components:\n",
      "[[-0.57735027 -0.57735027 -0.57735027]\n",
      " [ 0.81649658 -0.40824829 -0.40824829]\n",
      " [-0.          0.70710678 -0.70710678]]\n",
      "Explained Variance Ratios:\n",
      "[1.00000000e+00 1.44470466e-34 0.00000000e+00]\n"
     ]
    }
   ],
   "source": [
    "from sklearn.decomposition import PCA\n",
    "\n",
    "# Sample data for PCA\n",
    "data = [[1, 2, 3], [4, 5, 6], [7, 8, 9]]\n",
    "\n",
    "# Create a PCA instance and fit the data\n",
    "pca = PCA()\n",
    "pca.fit(data)\n",
    "\n",
    "# Access the principal components and explained variance\n",
    "components = pca.components_\n",
    "explained_variance = pca.explained_variance_ratio_\n",
    "\n",
    "# Print results\n",
    "print(\"Principal Components:\")\n",
    "print(components)\n",
    "print(\"Explained Variance Ratios:\")\n",
    "print(explained_variance)\n"
   ]
  },
  {
   "cell_type": "code",
   "execution_count": null,
   "id": "6f76352b",
   "metadata": {},
   "outputs": [],
   "source": []
  },
  {
   "cell_type": "code",
   "execution_count": null,
   "id": "9711a4c4",
   "metadata": {},
   "outputs": [],
   "source": []
  }
 ],
 "metadata": {
  "kernelspec": {
   "display_name": "Python 3 (ipykernel)",
   "language": "python",
   "name": "python3"
  },
  "language_info": {
   "codemirror_mode": {
    "name": "ipython",
    "version": 3
   },
   "file_extension": ".py",
   "mimetype": "text/x-python",
   "name": "python",
   "nbconvert_exporter": "python",
   "pygments_lexer": "ipython3",
   "version": "3.11.4"
  }
 },
 "nbformat": 4,
 "nbformat_minor": 5
}
